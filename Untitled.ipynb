{
 "cells": [
  {
   "cell_type": "code",
   "execution_count": 1,
   "metadata": {},
   "outputs": [],
   "source": [
    "import matplotlib.pyplot as plt\n",
    "import matplotlib.dates as mdates\n",
    "import pandas as pd\n",
    "from pandas.plotting import register_matplotlib_converters\n",
    "register_matplotlib_converters()"
   ]
  },
  {
   "cell_type": "code",
   "execution_count": 14,
   "metadata": {},
   "outputs": [
    {
     "data": {
      "text/html": [
       "<div>\n",
       "<style scoped>\n",
       "    .dataframe tbody tr th:only-of-type {\n",
       "        vertical-align: middle;\n",
       "    }\n",
       "\n",
       "    .dataframe tbody tr th {\n",
       "        vertical-align: top;\n",
       "    }\n",
       "\n",
       "    .dataframe thead th {\n",
       "        text-align: right;\n",
       "    }\n",
       "</style>\n",
       "<table border=\"1\" class=\"dataframe\">\n",
       "  <thead>\n",
       "    <tr style=\"text-align: right;\">\n",
       "      <th></th>\n",
       "      <th>datetime</th>\n",
       "      <th>severity</th>\n",
       "      <th>down</th>\n",
       "      <th>up</th>\n",
       "      <th>loss</th>\n",
       "      <th>server</th>\n",
       "    </tr>\n",
       "  </thead>\n",
       "  <tbody>\n",
       "    <tr>\n",
       "      <th>0</th>\n",
       "      <td>2020-01-06 17:52:12</td>\n",
       "      <td>INFO</td>\n",
       "      <td>210.0</td>\n",
       "      <td>29.9</td>\n",
       "      <td>0.0</td>\n",
       "      <td>host:spd-pub-rm-01-01.fastwebnet.it</td>\n",
       "    </tr>\n",
       "    <tr>\n",
       "      <th>1</th>\n",
       "      <td>2020-01-06 18:06:55</td>\n",
       "      <td>INFO</td>\n",
       "      <td>211.5</td>\n",
       "      <td>29.8</td>\n",
       "      <td>0.0</td>\n",
       "      <td>host:spd-pub-rm-01-01.fastwebnet.it</td>\n",
       "    </tr>\n",
       "    <tr>\n",
       "      <th>2</th>\n",
       "      <td>2020-01-06 18:07:18</td>\n",
       "      <td>INFO</td>\n",
       "      <td>211.4</td>\n",
       "      <td>30.0</td>\n",
       "      <td>0.0</td>\n",
       "      <td>host:spd-pub-rm-01-01.fastwebnet.it</td>\n",
       "    </tr>\n",
       "    <tr>\n",
       "      <th>3</th>\n",
       "      <td>2020-01-06 18:07:42</td>\n",
       "      <td>INFO</td>\n",
       "      <td>211.2</td>\n",
       "      <td>29.8</td>\n",
       "      <td>0.0</td>\n",
       "      <td>host:spd-pub-rm-01-01.fastwebnet.it</td>\n",
       "    </tr>\n",
       "    <tr>\n",
       "      <th>4</th>\n",
       "      <td>2020-01-06 18:08:05</td>\n",
       "      <td>INFO</td>\n",
       "      <td>211.0</td>\n",
       "      <td>29.9</td>\n",
       "      <td>0.0</td>\n",
       "      <td>host:spd-pub-rm-01-01.fastwebnet.it</td>\n",
       "    </tr>\n",
       "  </tbody>\n",
       "</table>\n",
       "</div>"
      ],
      "text/plain": [
       "              datetime severity   down    up  loss  \\\n",
       "0  2020-01-06 17:52:12     INFO  210.0  29.9   0.0   \n",
       "1  2020-01-06 18:06:55     INFO  211.5  29.8   0.0   \n",
       "2  2020-01-06 18:07:18     INFO  211.4  30.0   0.0   \n",
       "3  2020-01-06 18:07:42     INFO  211.2  29.8   0.0   \n",
       "4  2020-01-06 18:08:05     INFO  211.0  29.9   0.0   \n",
       "\n",
       "                                server  \n",
       "0  host:spd-pub-rm-01-01.fastwebnet.it  \n",
       "1  host:spd-pub-rm-01-01.fastwebnet.it  \n",
       "2  host:spd-pub-rm-01-01.fastwebnet.it  \n",
       "3  host:spd-pub-rm-01-01.fastwebnet.it  \n",
       "4  host:spd-pub-rm-01-01.fastwebnet.it  "
      ]
     },
     "execution_count": 14,
     "metadata": {},
     "output_type": "execute_result"
    }
   ],
   "source": [
    "# set field delimiter and set column names which will also cause reading from row 1\n",
    "data = pd.read_csv(\"test.log\", sep=';', names = ['datetime', 'severity', 'down', 'up', 'loss', 'server'])\n",
    "data\n",
    "data.head()"
   ]
  },
  {
   "cell_type": "code",
   "execution_count": null,
   "metadata": {},
   "outputs": [],
   "source": []
  }
 ],
 "metadata": {
  "kernelspec": {
   "display_name": "Python 3",
   "language": "python",
   "name": "python3"
  },
  "language_info": {
   "codemirror_mode": {
    "name": "ipython",
    "version": 3
   },
   "file_extension": ".py",
   "mimetype": "text/x-python",
   "name": "python",
   "nbconvert_exporter": "python",
   "pygments_lexer": "ipython3",
   "version": "3.6.8"
  }
 },
 "nbformat": 4,
 "nbformat_minor": 2
}
